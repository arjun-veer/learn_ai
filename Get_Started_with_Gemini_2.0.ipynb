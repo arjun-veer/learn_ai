https://colab.research.google.com/github/google-gemini/cookbook/blob/main/quickstarts/Get_started.ipynb
